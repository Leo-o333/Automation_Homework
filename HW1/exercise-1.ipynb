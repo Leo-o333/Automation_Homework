{
 "cells": [
  {
   "cell_type": "code",
   "execution_count": 6,
   "id": "5fb2c294",
   "metadata": {},
   "outputs": [],
   "source": [
    "# Import library\n",
    "import pandas  as pd #Data manipulation\n",
    "import numpy as np #Data manipulation\n",
    "import matplotlib.pyplot as plt # Visualization\n",
    "import seaborn as sns #Visualization"
   ]
  },
  {
   "cell_type": "code",
   "execution_count": 7,
   "id": "37cd4896",
   "metadata": {},
   "outputs": [
    {
     "data": {
      "text/html": [
       "<div>\n",
       "<style scoped>\n",
       "    .dataframe tbody tr th:only-of-type {\n",
       "        vertical-align: middle;\n",
       "    }\n",
       "\n",
       "    .dataframe tbody tr th {\n",
       "        vertical-align: top;\n",
       "    }\n",
       "\n",
       "    .dataframe thead th {\n",
       "        text-align: right;\n",
       "    }\n",
       "</style>\n",
       "<table border=\"1\" class=\"dataframe\">\n",
       "  <thead>\n",
       "    <tr style=\"text-align: right;\">\n",
       "      <th></th>\n",
       "      <th>x1</th>\n",
       "      <th>x2</th>\n",
       "      <th>y</th>\n",
       "    </tr>\n",
       "  </thead>\n",
       "  <tbody>\n",
       "    <tr>\n",
       "      <th>0</th>\n",
       "      <td>4.286896</td>\n",
       "      <td>3.103671</td>\n",
       "      <td>10.130192</td>\n",
       "    </tr>\n",
       "    <tr>\n",
       "      <th>1</th>\n",
       "      <td>4.009460</td>\n",
       "      <td>3.257794</td>\n",
       "      <td>9.677757</td>\n",
       "    </tr>\n",
       "    <tr>\n",
       "      <th>2</th>\n",
       "      <td>3.745839</td>\n",
       "      <td>0.815045</td>\n",
       "      <td>7.934881</td>\n",
       "    </tr>\n",
       "    <tr>\n",
       "      <th>3</th>\n",
       "      <td>3.804023</td>\n",
       "      <td>7.750934</td>\n",
       "      <td>11.756369</td>\n",
       "    </tr>\n",
       "    <tr>\n",
       "      <th>4</th>\n",
       "      <td>4.281540</td>\n",
       "      <td>9.607359</td>\n",
       "      <td>13.565895</td>\n",
       "    </tr>\n",
       "  </tbody>\n",
       "</table>\n",
       "</div>"
      ],
      "text/plain": [
       "         x1        x2          y\n",
       "0  4.286896  3.103671  10.130192\n",
       "1  4.009460  3.257794   9.677757\n",
       "2  3.745839  0.815045   7.934881\n",
       "3  3.804023  7.750934  11.756369\n",
       "4  4.281540  9.607359  13.565895"
      ]
     },
     "execution_count": 7,
     "metadata": {},
     "output_type": "execute_result"
    }
   ],
   "source": [
    "# Load the regression data set and take a quick look at it\n",
    "regression_data = pd.read_csv(\"regression.csv\", sep=\",\")\n",
    "regression_data2 = pd.read_csv(\"regression.csv\", sep=\",\")\n",
    "regression_data2 = regression_data.values\n",
    "# print(regression_data2.type())\n",
    "regression_data.head()\n",
    "# print(regression_data2)\n",
    "\n"
   ]
  },
  {
   "cell_type": "code",
   "execution_count": 8,
   "id": "03e3abce",
   "metadata": {},
   "outputs": [
    {
     "data": {
      "text/plain": [
       "False"
      ]
     },
     "execution_count": 8,
     "metadata": {},
     "output_type": "execute_result"
    }
   ],
   "source": [
    "#check and eliminating NaN\n",
    "regression_data.isnull().values.any()\n",
    "#Returned false, there is no NaN"
   ]
  },
  {
   "cell_type": "code",
   "execution_count": 9,
   "id": "2e98181d",
   "metadata": {},
   "outputs": [
    {
     "name": "stdout",
     "output_type": "stream",
     "text": [
      "<class 'numpy.ndarray'>\n"
     ]
    }
   ],
   "source": [
    "X = regression_data[[\"x1\",\"x2\"]]\n",
    "X=X.values\n",
    "# X.head()\n",
    "print(type(X))\n",
    "Y = regression_data[[\"y\"]]\n",
    "Y=Y.values\n",
    "# Y.head()"
   ]
  },
  {
   "cell_type": "code",
   "execution_count": 10,
   "id": "e278712a",
   "metadata": {},
   "outputs": [],
   "source": [
    "from sklearn.model_selection import train_test_split\n",
    "from sklearn.linear_model import LinearRegression\n",
    "from sklearn.metrics import mean_squared_error, r2_score\n",
    "\n",
    "\n",
    "# lm.intercept_\n"
   ]
  },
  {
   "cell_type": "code",
   "execution_count": 46,
   "id": "8e1c61b2",
   "metadata": {},
   "outputs": [
    {
     "name": "stdout",
     "output_type": "stream",
     "text": [
      "0.02194103833033502 0.02152672264790083\n",
      "[6.31329693e-02 5.26770308e-02 4.55741073e-02 2.77176876e-04\n",
      " 1.02545500e-02 2.33247778e-02 6.43490085e-04 1.23819639e-02\n",
      " 2.73836134e-02 1.65942777e-03 1.65147295e-04 5.10532439e-03\n",
      " 2.07575615e-03 6.61985679e-04 1.39307055e-04 3.11451557e-02\n",
      " 3.59706243e-02 8.45787088e-02 4.52687568e-02 4.00441870e-03\n",
      " 2.17661831e-04 8.10584483e-05 1.19925117e-03 3.81156336e-02\n",
      " 1.54332898e-04 1.96159715e-02 4.28474020e-02 3.06770870e-03\n",
      " 3.00772849e-02 9.50413556e-03 2.91412680e-02 3.29406302e-02\n",
      " 5.57204613e-02 4.50244226e-03 5.36080877e-05 3.74794875e-02\n",
      " 1.49797260e-02 1.61331274e-02 3.09220715e-02 3.15227470e-02\n",
      " 3.51275587e-02 2.22813328e-04 2.04247034e-03 1.81213014e-02\n",
      " 2.91065267e-02 1.42016575e-02 2.36506805e-02 2.48571263e-02\n",
      " 6.12482811e-02 1.79907255e-02 3.61574298e-02 2.17616287e-02\n",
      " 5.19268064e-03 1.73799704e-02 4.36088456e-03 3.05557823e-02\n",
      " 1.09384546e-01 2.19474076e-03 2.35907603e-03 1.32818953e-02\n",
      " 2.04039157e-03 2.36808712e-03 4.58564302e-03 5.39905825e-03\n",
      " 5.39567644e-02 4.07394884e-02 5.04283918e-02 2.69715215e-02\n",
      " 4.56820869e-02 1.88753726e-06 2.57076431e-02 3.07677256e-03\n",
      " 2.04802258e-02 2.14535110e-03 2.37895535e-02 3.52877893e-02\n",
      " 3.39539148e-02 1.33086133e-03 1.41367096e-03 2.11487910e-03\n",
      " 5.71344783e-05 9.71303876e-04 3.58124366e-03 4.82323529e-02\n",
      " 2.29670094e-03 6.83922673e-03 4.96971669e-02 4.76936897e-02\n",
      " 1.76228781e-04 1.50178616e-02 3.53101277e-02 3.07523223e-02\n",
      " 2.96960751e-02 3.17252210e-02 1.48254649e-02 4.68493502e-02\n",
      " 5.77984608e-03 5.58155347e-02 3.86268258e-03 6.95522394e-02]\n"
     ]
    }
   ],
   "source": [
    "#check the accuracy of the offline model\n",
    "from sklearn.model_selection import LeaveOneOut\n",
    "cv = LeaveOneOut()\n",
    "MSE_score = np.array([])\n",
    "for train_i, test_i in cv.split(X):\n",
    "    X_train, X_test = X[train_i], X[test_i]\n",
    "    Y_train, Y_test = Y[train_i], Y[test_i]\n",
    "    lm = LinearRegression()\n",
    "    lm.fit(X_train,Y_train)\n",
    "# lm.coef_\n",
    "    y_pred = lm.predict(X_test)\n",
    "    MSE_score = np.append(MSE_score, mean_squared_error(Y_test, y_pred))\n",
    "avg = np.mean(MSE_score)\n",
    "sd = np.std(MSE_score)\n",
    "print(avg, sd)\n",
    "print(MSE_score )"
   ]
  },
  {
   "cell_type": "code",
   "execution_count": 12,
   "id": "1136e508",
   "metadata": {},
   "outputs": [
    {
     "name": "stdout",
     "output_type": "stream",
     "text": [
      "[[1 2 3 4]\n",
      " [5 6 7 8]]\n",
      "[[0, 1, 2, 3]]\n"
     ]
    }
   ],
   "source": [
    "######Trying something for data\n",
    "arr1 = [[1,2,3,4]]\n",
    "arr2 = [[5,6,7,8]]\n",
    "arr3 = np.concatenate((arr1, arr2))\n",
    "print(arr3)\n",
    "arr4 = [[]]\n",
    "for i in range(4):\n",
    "    arr4[0].append(i)\n",
    "print(arr4)\n",
    "    "
   ]
  },
  {
   "cell_type": "code",
   "execution_count": null,
   "id": "697e4dd4",
   "metadata": {},
   "outputs": [],
   "source": []
  },
  {
   "cell_type": "code",
   "execution_count": 43,
   "id": "430a236a",
   "metadata": {},
   "outputs": [],
   "source": [
    "#split the data for online training with 50 points, and used LOOCV\n",
    "import random\n",
    "cv = LeaveOneOut()\n",
    "\n",
    "# result_50 = np.array([])\n",
    "\n",
    "MSE_overall = np.ndarray(shape = (10, 6), dtype = float)\n",
    "# MSE_score = np.array([])\n",
    "for i in range(10):\n",
    "    random.seed(i)\n",
    "    # shuffle data for 10 time\n",
    "#!!!!Don't delete frac = 1\n",
    "### For information about frac = 1, see this website: https://stackoverflow.com/questions/29576430/shuffle-dataframe-rows\n",
    "    shuffeled_data =regression_data.sample(frac=1).reset_index(drop = True)\n",
    "#     shuffeled_data = shuffeled_data.values\n",
    "#!!!!After shuffle, it is still a dataframe\n",
    "\n",
    "####### for check data type\n",
    "#     print(shuffeled_data.type())\n",
    "#     print(shuffeled_data.shape)\n",
    "######## split the pandas dataframe and put them into a list, so I am dealing with a list of dataframes\n",
    "    last_check = 0\n",
    "    splited_data = []\n",
    "    for idx in [50,60,70,80,90,100]:\n",
    "        splited_data.append(shuffeled_data.loc[last_check:idx-1])\n",
    "\n",
    "#         print(splited_data)\n",
    "        last_check=idx\n",
    "#     print(splited_data[5], i)\n",
    "# This is checking that I got the correct result\n",
    "\n",
    "########Old code for shuffle, and spliting X and Y, No longer needed #################\n",
    "#     shuffeled_data = np.array_split(regression_data, [50,60,70,80,90,99])\n",
    "#     print(shuffeled_data.type(),shuffeled_data)\n",
    "#     shuffeled_X = shuffeled_data[:,0:2]\n",
    "#     shuffeled_X_split = np.array_split(shuffeled_X, [50,60,70,80,90,99])\n",
    "#     shuffeled_Y = shuffeled_data[:,2:]\n",
    "#     shuffeled_Y_split = np.array_split(shuffeled_Y, [50,60,70,80,90,99])\n",
    "#     print(shuffeled_X_split,shuffeled_Y_split)\n",
    "####################################################################################\n",
    "\n",
    "# #     MSE_score = np.array([])\n",
    "##################Old way of spliting dataset, no longer needed##################\n",
    "# #     X_train, X_test, Y_train, Y_test = train_test_split(X, Y, \n",
    "# # test_size=0.5, random_state=i)\n",
    "# #     X_shuffeled_train = shuffeled_data[0].values\n",
    "# #     print(X_shuffeled_train.type())\n",
    "####################################################################################\n",
    "    \n",
    "\n",
    "\n",
    "\n",
    "######## After got a list of dataframe (splited_data）, First train and validata the 50 with LOOCV !!\n",
    "\n",
    "## i defined the number of the dataset, j define the round number\n",
    "\n",
    "\n",
    "    for j in range(6):\n",
    "        MSE_score = np.array([])\n",
    "#         MSE_score = 0.0\n",
    "        ##check data type and make sure they are array now\n",
    "#         print(shuffeled_Y50.type())\n",
    "##since the initial round used a different validation step, do a if condition\n",
    "        if j == 0:\n",
    "            \n",
    "            shuffeled_X = splited_data[j][[\"x1\",\"x2\"]].values\n",
    "            shuffeled_Y = splited_data[j][[\"y\"]].values\n",
    "            for train_i, test_i in cv.split(shuffeled_X):\n",
    "                X_trainLO, X_testLO = shuffeled_X[train_i], shuffeled_X[test_i]\n",
    "                Y_trainLO, Y_testLO = shuffeled_Y[train_i], shuffeled_Y[test_i]\n",
    "                lm = LinearRegression()\n",
    "                lm.fit(X_trainLO,Y_trainLO)\n",
    "#         print(X_testLO.shape)\n",
    "                y_pred = lm.predict(X_testLO)\n",
    "#                 MSE_score = np.array([])\n",
    "#         print(y_pred.shape)\n",
    "#                 MSE_score = mean_squared_error(Y_test, y_pred)\n",
    "#                 print(MSE_score )\n",
    "                MSE_score = np.append(MSE_score, mean_squared_error(Y_testLO, y_pred))\n",
    "    \n",
    "#                 print(MSE_score)\n",
    "#                 print(Y_testLO,'Y_testLO')\n",
    "            MSE_overall[i,j]=np.mean(MSE_score)\n",
    "#             MSE_overall_std[i,j]= np.std(MSE_score)\n",
    "            \n",
    "#         generate the mse for 50 data points, and store in specific array\n",
    "        else:\n",
    "#             print(\"j\", j)\n",
    "            additional_X = splited_data[j][[\"x1\",\"x2\"]].values\n",
    "            additional_Y = splited_data[j][[\"y\"]].values\n",
    "#             print(additional_Y, \"additional_Y\")\n",
    "            y_pred = lm.predict(additional_X)\n",
    "#             print(y_pred, \"y_pred\")\n",
    "            MSE_score = np.append(MSE_score, mean_squared_error(additional_Y, y_pred))\n",
    "            MSE_score = mean_squared_error(additional_Y, y_pred)\n",
    "#             print(MSE_score, j)\n",
    "            shuffeled_X = np.concatenate((shuffeled_X, additional_X))\n",
    "            shuffeled_Y = np.concatenate((shuffeled_Y, additional_Y))\n",
    "            lm.fit(shuffeled_X,shuffeled_Y)\n",
    "        MSE_overall[i,j] = np.mean(MSE_score)\n",
    "#         MSE_overall_average[i,j]=np.mean(MSE_score)\n",
    "#         MSE_overall_std[i,j]= np.std(MSE_score)\n",
    "      \n",
    "\n",
    "    ######### Now, inside a for loop, do  fit (performance of the pevious model)\n",
    "    # and then train the model\n",
    "# print(MSE_overall, MSE_overall.shape)\n",
    "        \n",
    "        "
   ]
  },
  {
   "cell_type": "code",
   "execution_count": 48,
   "id": "fdbd7ea0",
   "metadata": {},
   "outputs": [
    {
     "name": "stdout",
     "output_type": "stream",
     "text": [
      "[0.02276048 0.02289226 0.02224012 0.02202071 0.02234011 0.02139678\n",
      " 0.02194104]\n"
     ]
    }
   ],
   "source": [
    "MSE_mean = MSE_overall.mean(axis = 0)\n",
    "MSE_mean = np.append(MSE_mean,0.02194103833033502)\n",
    "print(MSE_mean)"
   ]
  },
  {
   "cell_type": "code",
   "execution_count": 53,
   "id": "c3f215ac",
   "metadata": {},
   "outputs": [
    {
     "name": "stdout",
     "output_type": "stream",
     "text": [
      "[0.00150607 0.0059959  0.00505275 0.00606408 0.00478673 0.00415347\n",
      " 0.        ]\n"
     ]
    }
   ],
   "source": [
    "MSE_std = MSE_overall.std(axis = 0)\n",
    "MSE_std = np.append(MSE_std,0)\n",
    "print(MSE_std)"
   ]
  },
  {
   "cell_type": "code",
   "execution_count": 54,
   "id": "b4316eaa",
   "metadata": {},
   "outputs": [
    {
     "data": {
      "image/png": "[encoded data removed]",
      "text/plain": [
       "<Figure size 432x288 with 1 Axes>"
      ]
     },
     "metadata": {
      "needs_background": "light"
     },
     "output_type": "display_data"
    }
   ],
   "source": [
    "import matplotlib.pyplot as plt\n",
    "x = ['Initial', 'Round 1','Round 2','Round 3','Round 4','Round 5','Offline']\n",
    "fig,ax = plt.subplots()\n",
    "ax.bar(x,MSE_mean, yerr = MSE_std, align = 'center')\n",
    "ax.set_xticks(x)\n",
    "plt.tight_layout()\n",
    "# plt.plot(x,MSE_mean)\n",
    "plt.show()"
   ]
  },
  {
   "cell_type": "code",
   "execution_count": null,
   "id": "106ebd0c",
   "metadata": {},
   "outputs": [],
   "source": []
  }
 ],
 "metadata": {
  "kernelspec": {
   "display_name": "Python 3",
   "language": "python",
   "name": "python3"
  },
  "language_info": {
   "codemirror_mode": {
    "name": "ipython",
    "version": 3
   },
   "file_extension": ".py",
   "mimetype": "text/x-python",
   "name": "python",
   "nbconvert_exporter": "python",
   "pygments_lexer": "ipython3",
   "version": "3.8.8"
  }
 },
 "nbformat": 4,
 "nbformat_minor": 5
}
