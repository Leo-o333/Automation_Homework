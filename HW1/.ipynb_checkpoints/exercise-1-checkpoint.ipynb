{
 "cells": [
  {
   "cell_type": "code",
   "execution_count": 1,
   "id": "5fb2c294",
   "metadata": {},
   "outputs": [],
   "source": [
    "# Import library\n",
    "import pandas  as pd #Data manipulation\n",
    "import numpy as np #Data manipulation\n",
    "import matplotlib.pyplot as plt # Visualization\n",
    "import seaborn as sns #Visualization"
   ]
  },
  {
   "cell_type": "code",
   "execution_count": 4,
   "id": "37cd4896",
   "metadata": {},
   "outputs": [
    {
     "name": "stdout",
     "output_type": "stream",
     "text": [
      "[[ 4.28689556  3.10367125 10.13019193]\n",
      " [ 4.00946038  3.25779376  9.67775704]\n",
      " [ 3.74583925  0.81504462  7.934881  ]\n",
      " [ 3.80402302  7.75093405 11.75636932]\n",
      " [ 4.28154031  9.60735894 13.56589509]\n",
      " [ 0.55523114  6.0425437   4.59156522]\n",
      " [ 9.77613607  7.77385868 23.64021893]\n",
      " [ 7.33839356  1.09812225 15.53827326]\n",
      " [ 4.73090165  5.05818572 12.08776382]\n",
      " [ 1.35307443  5.50762687  5.79967632]\n",
      " [ 9.33799225  7.3968391  22.61418259]\n",
      " [ 9.82541323  3.9676435  21.76464409]\n",
      " [ 9.64063213  1.18049397 20.09574413]\n",
      " [ 8.68259291  4.28521775 19.74580169]\n",
      " [ 9.31241591  8.87811806 23.29050183]\n",
      " [ 2.19966514  8.52110884  8.80110285]\n",
      " [ 8.29638405  3.62434971 18.80207089]\n",
      " [ 7.72140657  2.64442318 17.25968277]\n",
      " [ 7.75576687  4.92463229 17.99255395]\n",
      " [ 1.19525266  4.26864176  4.75635651]\n",
      " [ 1.06274464  6.7130353   5.77912429]\n",
      " [ 1.87679142  1.48738107  4.77265643]\n",
      " [ 2.63286518  3.42642821  7.21690645]\n",
      " [ 8.10956098  9.83119666 21.5784312 ]\n",
      " [ 3.87433305  5.19402709 10.62876711]\n",
      " [ 1.71584095  6.20846051  6.9735693 ]\n",
      " [ 5.03495125  9.24098795 15.17735628]\n",
      " [ 9.0490739   7.38723837 21.96868174]\n",
      " [ 2.15131466  2.71395969  6.10095914]\n",
      " [ 9.33582094  8.48390228 23.24180169]\n",
      " [ 7.15192414  9.88987415 19.68050925]\n",
      " [ 0.28521776  1.63107802  1.84379221]\n",
      " [ 5.80181484  5.98960379 15.08736222]\n",
      " [ 7.92512567  1.59742633 16.78701024]\n",
      " [ 3.53941701  2.80326355  8.73120689]\n",
      " [ 4.41903762  4.7718429  11.29447462]\n",
      " [ 6.35762348  0.42424539 13.02131811]\n",
      " [ 4.05837672  5.31651853 11.17031811]\n",
      " [ 4.59360393  6.77940255 12.67744001]\n",
      " [ 2.03416266  1.44587968  5.22747704]\n",
      " [ 6.81356546  7.32123354 17.72554597]\n",
      " [ 3.48131235  9.50638658 12.00615724]\n",
      " [ 0.8639584   8.28686575  6.15249663]\n",
      " [ 7.5455712   5.44629501 17.91526128]\n",
      " [ 0.96217848  8.95071056  6.88993764]\n",
      " [ 5.71737082  8.48657083 16.06808867]\n",
      " [ 4.20533166  3.76691269 10.39971384]\n",
      " [ 4.59740713  6.71854207 12.67205824]\n",
      " [ 9.22429984  3.7251995  20.75335549]\n",
      " [ 1.63999042  4.57264002  5.9879133 ]\n",
      " [ 2.55972106  7.0369658   9.1215605 ]\n",
      " [ 4.47779597  6.73020854 12.45006876]\n",
      " [ 3.56822788  6.33515017 10.65701917]\n",
      " [ 7.12213369  4.1767828  16.43206529]\n",
      " [ 8.09521755  2.83138863 17.75132621]\n",
      " [ 0.34747217  5.6001447   3.63767812]\n",
      " [ 2.13244234  9.44217107  8.98843224]\n",
      " [ 8.00557864  1.61943914 17.0678229 ]\n",
      " [ 0.80344344  3.31622606  3.60281216]\n",
      " [ 9.28773574  1.79722086 19.55379898]\n",
      " [ 9.22855565  5.95837955 21.69871667]\n",
      " [ 9.32759874  2.08313979 19.84127835]\n",
      " [ 4.63826541  8.98516473 13.9920299 ]\n",
      " [ 4.82990945  7.988441   13.86182543]\n",
      " [ 9.14141643  9.66562269 23.14044002]\n",
      " [ 4.37001041  7.61074845 13.02574022]\n",
      " [ 4.07091283  2.94392307  9.64610133]\n",
      " [ 8.77556212  6.63781332 20.93869966]\n",
      " [ 3.2085694   1.22247099  7.48611738]\n",
      " [ 2.1456841   3.51022163  6.32556487]\n",
      " [ 2.96921639  3.86369064  7.98383184]\n",
      " [ 5.68562826  6.7653113  14.96140437]\n",
      " [ 3.04710781  4.45450543  8.45499132]\n",
      " [ 9.35241851  8.78210102 23.37688692]\n",
      " [ 7.15578983  9.63375828 19.5430054 ]\n",
      " [ 4.35619515  8.35729083 13.36194451]\n",
      " [ 1.71597488  4.8481422   5.96731066]\n",
      " [ 2.23132477  6.79956006  8.12624566]\n",
      " [ 4.22416751  0.46818961  8.88071246]\n",
      " [ 0.48493855  3.76126852  3.10334632]\n",
      " [ 2.52156548  7.18118359  8.9401046 ]\n",
      " [ 9.89860228  3.21047691 21.56523358]\n",
      " [ 1.54270329  0.16621904  3.48654679]\n",
      " [ 2.75541147  5.04296167  8.09781148]\n",
      " [ 7.24080129  6.59682747 17.97733042]\n",
      " [ 1.31467117  9.48001034  7.77560908]\n",
      " [ 1.15285354  1.95589942  3.77618232]\n",
      " [ 8.47467103  9.7671721  22.29399587]\n",
      " [ 1.30849751  1.4688684   3.63684732]\n",
      " [ 0.942473    1.00155849  2.77602784]\n",
      " [ 9.45466603  7.10429293 22.50455469]\n",
      " [ 5.44164978  0.25548007 11.39937578]\n",
      " [ 0.45491976  9.07970947  5.94674273]\n",
      " [ 7.74625752  3.64672383 17.7085695 ]\n",
      " [ 5.38058511  0.81222508 11.27408619]\n",
      " [ 4.03014277  2.13806493  9.16559263]\n",
      " [ 3.54153243  3.87665907  9.36167031]\n",
      " [ 9.12906366  2.15323837 19.75417192]\n",
      " [ 2.69925635  0.43374301  5.92562736]\n",
      " [ 5.42968142  8.63960028 15.1998248 ]]\n"
     ]
    }
   ],
   "source": [
    "# Load the regression data set and take a quick look at it\n",
    "regression_data = pd.read_csv(\"C:/Users/Aria/Downloads/regression.csv\")\n",
    "regression_data2 = pd.read_csv(\"C:/Users/Aria/Downloads/regression.csv\")\n",
    "regression_data2 = regression_data.values\n",
    "# print(regression_data2.type())\n",
    "regression_data.head()\n",
    "print(regression_data2)\n",
    "\n"
   ]
  },
  {
   "cell_type": "code",
   "execution_count": 5,
   "id": "03e3abce",
   "metadata": {},
   "outputs": [
    {
     "data": {
      "text/plain": [
       "False"
      ]
     },
     "execution_count": 5,
     "metadata": {},
     "output_type": "execute_result"
    }
   ],
   "source": [
    "#check and eliminating NaN\n",
    "regression_data.isnull().values.any()\n",
    "#Returned false, there is no NaN"
   ]
  },
  {
   "cell_type": "code",
   "execution_count": 6,
   "id": "2e98181d",
   "metadata": {},
   "outputs": [
    {
     "name": "stdout",
     "output_type": "stream",
     "text": [
      "<class 'numpy.ndarray'>\n"
     ]
    }
   ],
   "source": [
    "X = regression_data[[\"x1\",\"x2\"]]\n",
    "X=X.values\n",
    "# X.head()\n",
    "print(type(X))\n",
    "Y = regression_data[[\"y\"]]\n",
    "Y=Y.values\n",
    "# Y.head()"
   ]
  },
  {
   "cell_type": "code",
   "execution_count": 7,
   "id": "e278712a",
   "metadata": {},
   "outputs": [],
   "source": [
    "from sklearn.model_selection import train_test_split\n",
    "from sklearn.linear_model import LinearRegression\n",
    "from sklearn.metrics import mean_squared_error, r2_score\n",
    "\n",
    "\n",
    "# lm.intercept_\n"
   ]
  },
  {
   "cell_type": "code",
   "execution_count": 9,
   "id": "8e1c61b2",
   "metadata": {},
   "outputs": [
    {
     "name": "stdout",
     "output_type": "stream",
     "text": [
      "0.021941038330335002 0.021526722647900877\n"
     ]
    }
   ],
   "source": [
    "#check the accuracy of the offline model\n",
    "from sklearn.model_selection import LeaveOneOut\n",
    "cv = LeaveOneOut()\n",
    "MSE_score = np.array([])\n",
    "for train_i, test_i in cv.split(X):\n",
    "    X_train, X_test = X[train_i], X[test_i]\n",
    "    Y_train, Y_test = Y[train_i], Y[test_i]\n",
    "    lm = LinearRegression()\n",
    "    lm.fit(X_train,Y_train)\n",
    "# lm.coef_\n",
    "    y_pred = lm.predict(X_test)\n",
    "    MSE_score = np.append(MSE_score, mean_squared_error(Y_test, y_pred))\n",
    "avg = np.mean(MSE_score)\n",
    "sd = np.std(MSE_score)\n",
    "print(avg, sd)"
   ]
  },
  {
   "cell_type": "code",
   "execution_count": 10,
   "id": "430a236a",
   "metadata": {},
   "outputs": [
    {
     "ename": "NameError",
     "evalue": "name 'last_checkw' is not defined",
     "output_type": "error",
     "traceback": [
      "\u001b[1;31m---------------------------------------------------------------------------\u001b[0m",
      "\u001b[1;31mNameError\u001b[0m                                 Traceback (most recent call last)",
      "\u001b[1;32m<ipython-input-10-48e3d734bf65>\u001b[0m in \u001b[0;36m<module>\u001b[1;34m\u001b[0m\n\u001b[0;32m     22\u001b[0m     \u001b[0msplited_data\u001b[0m \u001b[1;33m=\u001b[0m \u001b[1;33m[\u001b[0m\u001b[1;33m]\u001b[0m\u001b[1;33m\u001b[0m\u001b[1;33m\u001b[0m\u001b[0m\n\u001b[0;32m     23\u001b[0m     \u001b[1;32mfor\u001b[0m \u001b[0midx\u001b[0m \u001b[1;32min\u001b[0m \u001b[1;33m[\u001b[0m\u001b[1;36m50\u001b[0m\u001b[1;33m,\u001b[0m\u001b[1;36m60\u001b[0m\u001b[1;33m,\u001b[0m\u001b[1;36m70\u001b[0m\u001b[1;33m,\u001b[0m\u001b[1;36m80\u001b[0m\u001b[1;33m,\u001b[0m\u001b[1;36m90\u001b[0m\u001b[1;33m,\u001b[0m\u001b[1;36m100\u001b[0m\u001b[1;33m]\u001b[0m\u001b[1;33m:\u001b[0m\u001b[1;33m\u001b[0m\u001b[1;33m\u001b[0m\u001b[0m\n\u001b[1;32m---> 24\u001b[1;33m         \u001b[0msplited_data\u001b[0m\u001b[1;33m.\u001b[0m\u001b[0mappend\u001b[0m\u001b[1;33m(\u001b[0m\u001b[0mshuffeled_data\u001b[0m\u001b[1;33m.\u001b[0m\u001b[0mloc\u001b[0m\u001b[1;33m[\u001b[0m\u001b[0mlast_checkw\u001b[0m\u001b[1;33m:\u001b[0m\u001b[0midx\u001b[0m\u001b[1;33m-\u001b[0m\u001b[1;36m1\u001b[0m\u001b[1;33m]\u001b[0m\u001b[1;33m)\u001b[0m\u001b[1;33m\u001b[0m\u001b[1;33m\u001b[0m\u001b[0m\n\u001b[0m\u001b[0;32m     25\u001b[0m \u001b[1;31m#         print(splited_data)\u001b[0m\u001b[1;33m\u001b[0m\u001b[1;33m\u001b[0m\u001b[1;33m\u001b[0m\u001b[0m\n\u001b[0;32m     26\u001b[0m         \u001b[0mlast_check\u001b[0m\u001b[1;33m=\u001b[0m\u001b[0midx\u001b[0m\u001b[1;33m\u001b[0m\u001b[1;33m\u001b[0m\u001b[0m\n",
      "\u001b[1;31mNameError\u001b[0m: name 'last_checkw' is not defined"
     ]
    }
   ],
   "source": [
    "#split the data for online training with 50 points, and used LOOCV\n",
    "import random\n",
    "cv = LeaveOneOut()\n",
    "MSE_score = np.array([])\n",
    "result_50 = np.array([])\n",
    "for i in range(10):\n",
    "    random.seed(i)\n",
    "    # shuffle data for 10 time\n",
    "\n",
    "#!!!!Don't delete frac = 1\n",
    "### For information about frac = 1, see this website: https://stackoverflow.com/questions/29576430/shuffle-dataframe-rows\n",
    "    shuffeled_data =regression_data.sample(frac=1).reset_index(drop = True)\n",
    "#     shuffeled_data = shuffeled_data.values\n",
    "#!!!!After shuffle, it is still a dataframe\n",
    "\n",
    "####### for check data type\n",
    "#     print(shuffeled_data.type())\n",
    "#     print(shuffeled_data.shape)\n",
    "######## split the pandas dataframe and put them into a list, so I am dealing with a list of dataframes\n",
    "    last_check = 0\n",
    "    splited_data = []\n",
    "    for idx in [50,60,70,80,90,100]:\n",
    "        splited_data.append(shuffeled_data.loc[last_check:idx-1])\n",
    "#         print(splited_data)\n",
    "        last_check=idx\n",
    "#     print(splited_data[5]) This is checking that I got the correct result\n",
    "\n",
    "########Old code for shuffle, and spliting X and Y, No longer needed #################\n",
    "#     shuffeled_data = np.array_split(regression_data, [50,60,70,80,90,99])\n",
    "#     print(shuffeled_data.type(),shuffeled_data)\n",
    "#     shuffeled_X = shuffeled_data[:,0:2]\n",
    "#     shuffeled_X_split = np.array_split(shuffeled_X, [50,60,70,80,90,99])\n",
    "#     shuffeled_Y = shuffeled_data[:,2:]\n",
    "#     shuffeled_Y_split = np.array_split(shuffeled_Y, [50,60,70,80,90,99])\n",
    "#     print(shuffeled_X_split,shuffeled_Y_split)\n",
    "####################################################################################\n",
    "\n",
    "# #     MSE_score = np.array([])\n",
    "##################Old way of spliting dataset, no longer needed##################\n",
    "# #     X_train, X_test, Y_train, Y_test = train_test_split(X, Y, \n",
    "# # test_size=0.5, random_state=i)\n",
    "# #     X_shuffeled_train = shuffeled_data[0].values\n",
    "# #     print(X_shuffeled_train.type())\n",
    "####################################################################################\n",
    "\n",
    "\n",
    "\n",
    "\n",
    "######## After got a list of dataframe (splited_data）, First train and validata the 50 with LOOCV !!\n",
    "##Important: 50 is different \n",
    "#Than the others, so do not use for loop to iterate through\n",
    "###Split the X and Y and change it into array\n",
    "        ##split data for x and y\n",
    "    shuffeled_X50 = splited_data[0][[\"x1\",\"x2\"]].values\n",
    "    shuffeled_Y50 = splited_data[0][[\"y\"]].values\n",
    "        ##check data type and make sure they are array now\n",
    "#         print(shuffeled_Y50.type())\n",
    "    for train_i, test_i in cv.split(shuffeled_X50):\n",
    "        X_trainLO, X_testLO = shuffeled_X50[train_i], shuffeled_X50[test_i]\n",
    "        Y_trainLO, Y_testLO = shuffeled_Y50[train_i], shuffeled_Y50[test_i]\n",
    "        lm_50 = LinearRegression()\n",
    "        lm_50.fit(X_trainLO,Y_trainLO)\n",
    "#         print(X_testLO.shape)\n",
    "        y_pred = lm_50.predict(X_testLO)\n",
    "#         print(y_pred.shape)\n",
    "        MSE_score = np.append(MSE_score, mean_squared_error(Y_testLO, y_pred))\n",
    "#         print(MSE_score)\n",
    "        result_50 = np.append(result_50,np.mean(MSE_score))\n",
    "#     print(result_50)\n",
    "    average = np.average(result_50)\n",
    "    sd = np.std(result_50)\n",
    "    print(\"round \", i+1 ,\"50 average and std is\",average, sd)"
   ]
  },
  {
   "cell_type": "code",
   "execution_count": null,
   "id": "fdbd7ea0",
   "metadata": {},
   "outputs": [],
   "source": []
  },
  {
   "cell_type": "code",
   "execution_count": 106,
   "id": "c3f215ac",
   "metadata": {},
   "outputs": [
    {
     "name": "stdout",
     "output_type": "stream",
     "text": [
      "99\n"
     ]
    },
    {
     "ename": "ValueError",
     "evalue": "With n_samples=1, test_size=None and train_size=0.4, the resulting train set will be empty. Adjust any of the aforementioned parameters.",
     "output_type": "error",
     "traceback": [
      "\u001b[1;31m---------------------------------------------------------------------------\u001b[0m",
      "\u001b[1;31mValueError\u001b[0m                                Traceback (most recent call last)",
      "\u001b[1;32m<ipython-input-106-15cf75507828>\u001b[0m in \u001b[0;36m<module>\u001b[1;34m\u001b[0m\n\u001b[0;32m      4\u001b[0m     \u001b[0mprint\u001b[0m\u001b[1;33m(\u001b[0m\u001b[0mlen\u001b[0m\u001b[1;33m(\u001b[0m\u001b[0mX_train\u001b[0m\u001b[1;33m)\u001b[0m\u001b[1;33m)\u001b[0m\u001b[1;33m\u001b[0m\u001b[1;33m\u001b[0m\u001b[0m\n\u001b[0;32m      5\u001b[0m     \u001b[1;31m#split from the X/Y_test\u001b[0m\u001b[1;33m\u001b[0m\u001b[1;33m\u001b[0m\u001b[1;33m\u001b[0m\u001b[0m\n\u001b[1;32m----> 6\u001b[1;33m     X_train_60to50, X_test_60to50, Y_train_60to50, Y_test_60to50 = train_test_split(X_test, Y_test, \n\u001b[0m\u001b[0;32m      7\u001b[0m train_size=0.4, random_state=i)\n\u001b[0;32m      8\u001b[0m     \u001b[0mprint\u001b[0m\u001b[1;33m(\u001b[0m\u001b[0mX_train_60to50\u001b[0m\u001b[1;33m)\u001b[0m\u001b[1;33m\u001b[0m\u001b[1;33m\u001b[0m\u001b[0m\n",
      "\u001b[1;32m~\\anaconda3\\lib\\site-packages\\sklearn\\model_selection\\_split.py\u001b[0m in \u001b[0;36mtrain_test_split\u001b[1;34m(test_size, train_size, random_state, shuffle, stratify, *arrays)\u001b[0m\n\u001b[0;32m   2173\u001b[0m \u001b[1;33m\u001b[0m\u001b[0m\n\u001b[0;32m   2174\u001b[0m     \u001b[0mn_samples\u001b[0m \u001b[1;33m=\u001b[0m \u001b[0m_num_samples\u001b[0m\u001b[1;33m(\u001b[0m\u001b[0marrays\u001b[0m\u001b[1;33m[\u001b[0m\u001b[1;36m0\u001b[0m\u001b[1;33m]\u001b[0m\u001b[1;33m)\u001b[0m\u001b[1;33m\u001b[0m\u001b[1;33m\u001b[0m\u001b[0m\n\u001b[1;32m-> 2175\u001b[1;33m     n_train, n_test = _validate_shuffle_split(n_samples, test_size, train_size,\n\u001b[0m\u001b[0;32m   2176\u001b[0m                                               default_test_size=0.25)\n\u001b[0;32m   2177\u001b[0m \u001b[1;33m\u001b[0m\u001b[0m\n",
      "\u001b[1;32m~\\anaconda3\\lib\\site-packages\\sklearn\\model_selection\\_split.py\u001b[0m in \u001b[0;36m_validate_shuffle_split\u001b[1;34m(n_samples, test_size, train_size, default_test_size)\u001b[0m\n\u001b[0;32m   1855\u001b[0m \u001b[1;33m\u001b[0m\u001b[0m\n\u001b[0;32m   1856\u001b[0m     \u001b[1;32mif\u001b[0m \u001b[0mn_train\u001b[0m \u001b[1;33m==\u001b[0m \u001b[1;36m0\u001b[0m\u001b[1;33m:\u001b[0m\u001b[1;33m\u001b[0m\u001b[1;33m\u001b[0m\u001b[0m\n\u001b[1;32m-> 1857\u001b[1;33m         raise ValueError(\n\u001b[0m\u001b[0;32m   1858\u001b[0m             \u001b[1;34m'With n_samples={}, test_size={} and train_size={}, the '\u001b[0m\u001b[1;33m\u001b[0m\u001b[1;33m\u001b[0m\u001b[0m\n\u001b[0;32m   1859\u001b[0m             \u001b[1;34m'resulting train set will be empty. Adjust any of the '\u001b[0m\u001b[1;33m\u001b[0m\u001b[1;33m\u001b[0m\u001b[0m\n",
      "\u001b[1;31mValueError\u001b[0m: With n_samples=1, test_size=None and train_size=0.4, the resulting train set will be empty. Adjust any of the aforementioned parameters."
     ]
    }
   ],
   "source": [
    "#Use the 10 points to validate the 50 model\n",
    "for i in range(10):\n",
    "    MSE_60to50_score = np.array([])\n",
    "    print(len(X_train))\n",
    "    #split from the X/Y_test\n",
    "    X_train_60to50, X_test_60to50, Y_train_60to50, Y_test_60to50 = train_test_split(X_test, Y_test, \n",
    "train_size=0.4, random_state=i)\n",
    "    print(X_train_60to50)\n",
    "    y_50_pred= lm_50.predict(X_train_60to50)\n",
    "    for train_i, test_i in cv.split(X_train_60to50):\n",
    "        pass\n"
   ]
  },
  {
   "cell_type": "code",
   "execution_count": 35,
   "id": "b4316eaa",
   "metadata": {},
   "outputs": [
    {
     "name": "stdout",
     "output_type": "stream",
     "text": [
      "0.019901736209343247\n"
     ]
    }
   ],
   "source": [
    "# lm_50 = LinearRegression()\n",
    "# lm_50.fit(X[:50], Y[:50])\n",
    "# y_50_pred = lm_50.predict(X[:50])\n",
    "# MSE_score_50 = mean_squared_error(Y[:50], y_50_pred)\n",
    "# print(MSE_score_50)"
   ]
  }
 ],
 "metadata": {
  "kernelspec": {
   "display_name": "Python 3",
   "language": "python",
   "name": "python3"
  },
  "language_info": {
   "codemirror_mode": {
    "name": "ipython",
    "version": 3
   },
   "file_extension": ".py",
   "mimetype": "text/x-python",
   "name": "python",
   "nbconvert_exporter": "python",
   "pygments_lexer": "ipython3",
   "version": "3.8.8"
  }
 },
 "nbformat": 4,
 "nbformat_minor": 5
}
